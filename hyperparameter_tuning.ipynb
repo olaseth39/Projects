{
 "cells": [
  {
   "cell_type": "markdown",
   "metadata": {},
   "source": [
    "# Hyperparameter Tuning of Digit Dataset"
   ]
  },
  {
   "cell_type": "markdown",
   "metadata": {},
   "source": [
    "In this work-piece the digits datasets was explored and different model was tested to get the best model. SVM emerged the best model to use"
   ]
  },
  {
   "cell_type": "code",
   "execution_count": 1,
   "metadata": {},
   "outputs": [],
   "source": [
    "#load the dataset\n",
    "from sklearn.datasets import load_digits"
   ]
  },
  {
   "cell_type": "code",
   "execution_count": 2,
   "metadata": {},
   "outputs": [],
   "source": [
    "#instantiate load_digits class\n",
    "digit = load_digits()"
   ]
  },
  {
   "cell_type": "code",
   "execution_count": 3,
   "metadata": {},
   "outputs": [
    {
     "data": {
      "text/plain": [
       "['DESCR', 'data', 'images', 'target', 'target_names']"
      ]
     },
     "execution_count": 3,
     "metadata": {},
     "output_type": "execute_result"
    }
   ],
   "source": [
    "#check the directory\n",
    "dir(digit)"
   ]
  },
  {
   "cell_type": "code",
   "execution_count": 4,
   "metadata": {},
   "outputs": [],
   "source": [
    "#import libraries\n",
    "from sklearn.linear_model import LogisticRegression\n",
    "from sklearn.svm import SVC\n",
    "from sklearn.ensemble import RandomForestClassifier\n",
    "from sklearn.tree import DecisionTreeClassifier\n",
    "from sklearn.naive_bayes import GaussianNB\n",
    "from sklearn.naive_bayes import MultinomialNB\n",
    "from sklearn.model_selection import train_test_split\n",
    "import numpy as np\n",
    "import pandas as pd"
   ]
  },
  {
   "cell_type": "code",
   "execution_count": 40,
   "metadata": {},
   "outputs": [],
   "source": [
    "#instantiate the model\n",
    "lg = LogisticRegression(solver='liblinear', multi_class='auto')\n",
    "svm = SVC(gamma='auto')\n",
    "rf = RandomForestClassifier()\n",
    "dt = DecisionTreeClassifier()\n",
    "nbg = GaussianNB()\n",
    "nbm = MultinomialNB()"
   ]
  },
  {
   "cell_type": "code",
   "execution_count": 23,
   "metadata": {},
   "outputs": [],
   "source": [
    "lg?"
   ]
  },
  {
   "cell_type": "code",
   "execution_count": 75,
   "metadata": {},
   "outputs": [],
   "source": [
    "#construct the dict for gridsearchcv\n",
    "model_params = {\n",
    "        'logistic_regression' : {\n",
    "        'model': lg,\n",
    "        'params': {\n",
    "            #'solver': ['newton-cg','liblinear', 'sag', 'saga'],\n",
    "            'C': [1, 10, 15, 20, 25, 30, 35, 40,50, 100]\n",
    "            #'multi_class': ['ovr', 'auto'],\n",
    "            }\n",
    "        },\n",
    "        'SVM' : {\n",
    "        'model': svm,\n",
    "        'params' : {\n",
    "            #'gamma' : 'auto',\n",
    "            'kernel': ['rbf', 'poly', 'sigmoid'],\n",
    "            'C' : [1, 10, 15, 20, 25, 30, 35, 40,50, 100]   \n",
    "            }\n",
    "        }, \n",
    "        'random_forest' : {\n",
    "        'model': rf,\n",
    "        'params' : {\n",
    "            'n_estimators' : [5, 10, 20, 30, 40, 50, 60, 100] \n",
    "            }\n",
    "        }, \n",
    "        'decision_tree' : {\n",
    "            'model': dt,\n",
    "            'params' : {\n",
    "                'criterion' : ['gini', 'entropy'],\n",
    "                'max_features': ['auto','sqrt']\n",
    "            }\n",
    "        },\n",
    "        'naive_bayesG' : {\n",
    "            'model' : nbg,\n",
    "            'params' : {}\n",
    "        },\n",
    "        'naive_bayesM' : {\n",
    "           'model' : nbm,\n",
    "           'params': {}\n",
    "        }\n",
    "        \n",
    "    }"
   ]
  },
  {
   "cell_type": "code",
   "execution_count": 16,
   "metadata": {},
   "outputs": [],
   "source": [
    "#import GridSearchCV for getting the best model\n",
    "from sklearn.model_selection import GridSearchCV"
   ]
  },
  {
   "cell_type": "code",
   "execution_count": 51,
   "metadata": {},
   "outputs": [],
   "source": [
    "#GaussianNB?"
   ]
  },
  {
   "cell_type": "code",
   "execution_count": 76,
   "metadata": {},
   "outputs": [
    {
     "name": "stderr",
     "output_type": "stream",
     "text": [
      "C:\\Users\\USER\\Anaconda3\\lib\\site-packages\\sklearn\\model_selection\\_search.py:813: DeprecationWarning: The default of the `iid` parameter will change from True to False in version 0.22 and will be removed in 0.24. This will change numeric results when test-set sizes are unequal.\n",
      "  DeprecationWarning)\n",
      "C:\\Users\\USER\\Anaconda3\\lib\\site-packages\\sklearn\\model_selection\\_search.py:813: DeprecationWarning: The default of the `iid` parameter will change from True to False in version 0.22 and will be removed in 0.24. This will change numeric results when test-set sizes are unequal.\n",
      "  DeprecationWarning)\n",
      "C:\\Users\\USER\\Anaconda3\\lib\\site-packages\\sklearn\\model_selection\\_search.py:813: DeprecationWarning: The default of the `iid` parameter will change from True to False in version 0.22 and will be removed in 0.24. This will change numeric results when test-set sizes are unequal.\n",
      "  DeprecationWarning)\n"
     ]
    }
   ],
   "source": [
    "#get the best model\n",
    "scores = []\n",
    "for model_name,model_ in model_params.items():\n",
    "    clf = GridSearchCV(model_['model'], model_['params'], cv=5, return_train_score=False)\n",
    "    clf.fit(digit.data, digit.target)\n",
    "    scores.append({\n",
    "        'model_name': model_name,\n",
    "        'best_score' : clf.best_score_,\n",
    "        'best_param' : clf.best_params_\n",
    "    })"
   ]
  },
  {
   "cell_type": "code",
   "execution_count": 58,
   "metadata": {},
   "outputs": [],
   "source": [
    "#digit.data"
   ]
  },
  {
   "cell_type": "code",
   "execution_count": 77,
   "metadata": {},
   "outputs": [
    {
     "data": {
      "text/html": [
       "<div>\n",
       "<style scoped>\n",
       "    .dataframe tbody tr th:only-of-type {\n",
       "        vertical-align: middle;\n",
       "    }\n",
       "\n",
       "    .dataframe tbody tr th {\n",
       "        vertical-align: top;\n",
       "    }\n",
       "\n",
       "    .dataframe thead th {\n",
       "        text-align: right;\n",
       "    }\n",
       "</style>\n",
       "<table border=\"1\" class=\"dataframe\">\n",
       "  <thead>\n",
       "    <tr style=\"text-align: right;\">\n",
       "      <th></th>\n",
       "      <th>model_name</th>\n",
       "      <th>best_score</th>\n",
       "      <th>best_param</th>\n",
       "    </tr>\n",
       "  </thead>\n",
       "  <tbody>\n",
       "    <tr>\n",
       "      <th>0</th>\n",
       "      <td>logistic_regression</td>\n",
       "      <td>0.920979</td>\n",
       "      <td>{'C': 1}</td>\n",
       "    </tr>\n",
       "    <tr>\n",
       "      <th>1</th>\n",
       "      <td>SVM</td>\n",
       "      <td>0.969950</td>\n",
       "      <td>{'C': 1, 'kernel': 'poly'}</td>\n",
       "    </tr>\n",
       "    <tr>\n",
       "      <th>2</th>\n",
       "      <td>random_forest</td>\n",
       "      <td>0.938787</td>\n",
       "      <td>{'n_estimators': 100}</td>\n",
       "    </tr>\n",
       "    <tr>\n",
       "      <th>3</th>\n",
       "      <td>decision_tree</td>\n",
       "      <td>0.761269</td>\n",
       "      <td>{'criterion': 'gini', 'max_features': 'auto'}</td>\n",
       "    </tr>\n",
       "    <tr>\n",
       "      <th>4</th>\n",
       "      <td>naive_bayesG</td>\n",
       "      <td>0.806344</td>\n",
       "      <td>{}</td>\n",
       "    </tr>\n",
       "    <tr>\n",
       "      <th>5</th>\n",
       "      <td>naive_bayesM</td>\n",
       "      <td>0.871452</td>\n",
       "      <td>{}</td>\n",
       "    </tr>\n",
       "  </tbody>\n",
       "</table>\n",
       "</div>"
      ],
      "text/plain": [
       "            model_name  best_score  \\\n",
       "0  logistic_regression    0.920979   \n",
       "1                  SVM    0.969950   \n",
       "2        random_forest    0.938787   \n",
       "3        decision_tree    0.761269   \n",
       "4         naive_bayesG    0.806344   \n",
       "5         naive_bayesM    0.871452   \n",
       "\n",
       "                                      best_param  \n",
       "0                                       {'C': 1}  \n",
       "1                     {'C': 1, 'kernel': 'poly'}  \n",
       "2                          {'n_estimators': 100}  \n",
       "3  {'criterion': 'gini', 'max_features': 'auto'}  \n",
       "4                                             {}  \n",
       "5                                             {}  "
      ]
     },
     "execution_count": 77,
     "metadata": {},
     "output_type": "execute_result"
    }
   ],
   "source": [
    "#put in a dataframe\n",
    "df = pd.DataFrame(scores, columns=['model_name','best_score','best_param'])\n",
    "df"
   ]
  },
  {
   "cell_type": "markdown",
   "metadata": {},
   "source": [
    "#### SVM is the best model to use."
   ]
  },
  {
   "cell_type": "code",
   "execution_count": null,
   "metadata": {},
   "outputs": [],
   "source": []
  }
 ],
 "metadata": {
  "kernelspec": {
   "display_name": "Python 3",
   "language": "python",
   "name": "python3"
  },
  "language_info": {
   "codemirror_mode": {
    "name": "ipython",
    "version": 3
   },
   "file_extension": ".py",
   "mimetype": "text/x-python",
   "name": "python",
   "nbconvert_exporter": "python",
   "pygments_lexer": "ipython3",
   "version": "3.7.3"
  }
 },
 "nbformat": 4,
 "nbformat_minor": 2
}
